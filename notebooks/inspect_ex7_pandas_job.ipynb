{
 "cells": [
  {
   "cell_type": "markdown",
   "id": "a646f7a2",
   "metadata": {},
   "source": [
    "Demo executing a yaetos job from jupyter notebook and checking parameters and results"
   ]
  },
  {
   "cell_type": "code",
   "execution_count": 1,
   "id": "8495804b",
   "metadata": {},
   "outputs": [],
   "source": [
    "import logging\n",
    "logging.getLogger('Job').setLevel(logging.CRITICAL)\n",
    "import os\n",
    "os.chdir(os.environ.get('PYSPARK_AWS_ETL_HOME', ''))\n",
    "from jobs.examples.ex7_pandas_job import Job\n",
    "from yaetos.etl_utils import Runner"
   ]
  },
  {
   "cell_type": "code",
   "execution_count": 2,
   "id": "f429d335",
   "metadata": {},
   "outputs": [],
   "source": [
    "args = {\n",
    "    'job_param_file': 'conf/jobs_metadata.yml',\n",
    "    'inputs': {\n",
    "      'some_events': {'path':\"{base_path}/wiki_example/input/\", 'type':'csv', 'df_type':'pandas'},\n",
    "      'other_events': {'path':\"{base_path}/wiki_example/input/\", 'type':'csv', 'df_type':'pandas'},},\n",
    "    'output': {'path':'{base_path}/wiki_example/output_ex7_pandas/{now}/output.csv', 'type':'csv', 'df_type':'pandas', 'save_kwargs':{'sep':','}},\n",
    "    'spark_boot': False,\n",
    "    'base_path': './tests/fixtures/data_sample/',\n",
    "    'dependencies': False}\n",
    "job = Runner(Job, **args).run()\n"
   ]
  },
  {
   "cell_type": "code",
   "execution_count": 3,
   "id": "291d6f15",
   "metadata": {},
   "outputs": [
    {
     "data": {
      "text/plain": [
       "'./tests/fixtures/data_sample//wiki_example/output_ex7_pandas/date20220525_time195033_utc/output.csv'"
      ]
     },
     "execution_count": 3,
     "metadata": {},
     "output_type": "execute_result"
    }
   ],
   "source": [
    "job.jargs.output['path_expanded']"
   ]
  },
  {
   "cell_type": "code",
   "execution_count": 4,
   "id": "21fa4736",
   "metadata": {},
   "outputs": [
    {
     "data": {
      "text/html": [
       "<div>\n",
       "<style scoped>\n",
       "    .dataframe tbody tr th:only-of-type {\n",
       "        vertical-align: middle;\n",
       "    }\n",
       "\n",
       "    .dataframe tbody tr th {\n",
       "        vertical-align: top;\n",
       "    }\n",
       "\n",
       "    .dataframe thead th {\n",
       "        text-align: right;\n",
       "    }\n",
       "</style>\n",
       "<table border=\"1\" class=\"dataframe\">\n",
       "  <thead>\n",
       "    <tr style=\"text-align: right;\">\n",
       "      <th></th>\n",
       "      <th>session_id</th>\n",
       "      <th>count_events</th>\n",
       "    </tr>\n",
       "  </thead>\n",
       "  <tbody>\n",
       "    <tr>\n",
       "      <th>0</th>\n",
       "      <td>s1</td>\n",
       "      <td>4</td>\n",
       "    </tr>\n",
       "    <tr>\n",
       "      <th>1</th>\n",
       "      <td>s2</td>\n",
       "      <td>4</td>\n",
       "    </tr>\n",
       "  </tbody>\n",
       "</table>\n",
       "</div>"
      ],
      "text/plain": [
       "  session_id  count_events\n",
       "0         s1             4\n",
       "1         s2             4"
      ]
     },
     "execution_count": 4,
     "metadata": {},
     "output_type": "execute_result"
    }
   ],
   "source": [
    "job.out_df"
   ]
  },
  {
   "cell_type": "code",
   "execution_count": 5,
   "id": "a8d7b528",
   "metadata": {},
   "outputs": [
    {
     "data": {
      "text/html": [
       "<div>\n",
       "<style scoped>\n",
       "    .dataframe tbody tr th:only-of-type {\n",
       "        vertical-align: middle;\n",
       "    }\n",
       "\n",
       "    .dataframe tbody tr th {\n",
       "        vertical-align: top;\n",
       "    }\n",
       "\n",
       "    .dataframe thead th {\n",
       "        text-align: right;\n",
       "    }\n",
       "</style>\n",
       "<table border=\"1\" class=\"dataframe\">\n",
       "  <thead>\n",
       "    <tr style=\"text-align: right;\">\n",
       "      <th></th>\n",
       "      <th>session_id</th>\n",
       "      <th>count_events</th>\n",
       "    </tr>\n",
       "  </thead>\n",
       "  <tbody>\n",
       "    <tr>\n",
       "      <th>0</th>\n",
       "      <td>s1</td>\n",
       "      <td>4</td>\n",
       "    </tr>\n",
       "    <tr>\n",
       "      <th>1</th>\n",
       "      <td>s2</td>\n",
       "      <td>4</td>\n",
       "    </tr>\n",
       "  </tbody>\n",
       "</table>\n",
       "</div>"
      ],
      "text/plain": [
       "  session_id  count_events\n",
       "0         s1             4\n",
       "1         s2             4"
      ]
     },
     "execution_count": 5,
     "metadata": {},
     "output_type": "execute_result"
    }
   ],
   "source": [
    "import pandas as pd\n",
    "df_out = pd.read_csv(job.jargs.output['path_expanded'], index_col=0)\n",
    "df_out"
   ]
  },
  {
   "cell_type": "code",
   "execution_count": null,
   "id": "440b9430",
   "metadata": {},
   "outputs": [],
   "source": []
  }
 ],
 "metadata": {
  "kernelspec": {
   "display_name": "Python 3 (ipykernel)",
   "language": "python",
   "name": "python3"
  },
  "language_info": {
   "codemirror_mode": {
    "name": "ipython",
    "version": 3
   },
   "file_extension": ".py",
   "mimetype": "text/x-python",
   "name": "python",
   "nbconvert_exporter": "python",
   "pygments_lexer": "ipython3",
   "version": "3.10.0"
  }
 },
 "nbformat": 4,
 "nbformat_minor": 5
}
