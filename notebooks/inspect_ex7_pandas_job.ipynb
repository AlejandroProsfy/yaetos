{
 "cells": [
  {
   "cell_type": "markdown",
   "id": "3c24388d",
   "metadata": {},
   "source": [
    "## Demo \n",
    "\n",
    "Executing a yaetos job from jupyter notebook and checking parameters and results"
   ]
  },
  {
   "cell_type": "code",
   "execution_count": 1,
   "id": "8495804b",
   "metadata": {},
   "outputs": [],
   "source": [
    "import logging\n",
    "logging.getLogger('Job').setLevel(logging.CRITICAL)\n",
    "import os\n",
    "os.chdir(os.environ.get('PYSPARK_AWS_ETL_HOME', ''))\n",
    "from jobs.examples.ex7_pandas_job import Job\n",
    "from yaetos.etl_utils import Runner"
   ]
  },
  {
   "cell_type": "code",
   "execution_count": 2,
   "id": "f429d335",
   "metadata": {},
   "outputs": [],
   "source": [
    "args = {\n",
    "    'job_param_file': 'conf/jobs_metadata.yml',\n",
    "    'inputs': {\n",
    "      'some_events': {'path':\"{base_path}/wiki_example/input/\", 'type':'csv', 'df_type':'pandas'},\n",
    "      'other_events': {'path':\"{base_path}/wiki_example/input/\", 'type':'csv', 'df_type':'pandas'},},\n",
    "    'output': {'path':'{base_path}/wiki_example/output_ex7_pandas/{now}/output.csv', 'type':'csv', 'df_type':'pandas', 'save_kwargs':{'sep':','}},\n",
    "    'base_path': './tests/fixtures/data_sample/',\n",
    "    }\n",
    "job = Runner(Job, **args).run()\n"
   ]
  },
  {
   "cell_type": "code",
   "execution_count": 3,
   "id": "e9093262",
   "metadata": {},
   "outputs": [
    {
     "data": {
      "text/plain": [
       "'./tests/fixtures/data_sample//wiki_example/output_ex7_pandas/date20220525_time214255_utc/output.csv'"
      ]
     },
     "execution_count": 3,
     "metadata": {},
     "output_type": "execute_result"
    }
   ],
   "source": [
    "job.jargs.output['path_expanded']"
   ]
  },
  {
   "cell_type": "code",
   "execution_count": 4,
   "id": "2a8e6b58",
   "metadata": {},
   "outputs": [
    {
     "data": {
      "text/html": [
       "<div>\n",
       "<style scoped>\n",
       "    .dataframe tbody tr th:only-of-type {\n",
       "        vertical-align: middle;\n",
       "    }\n",
       "\n",
       "    .dataframe tbody tr th {\n",
       "        vertical-align: top;\n",
       "    }\n",
       "\n",
       "    .dataframe thead th {\n",
       "        text-align: right;\n",
       "    }\n",
       "</style>\n",
       "<table border=\"1\" class=\"dataframe\">\n",
       "  <thead>\n",
       "    <tr style=\"text-align: right;\">\n",
       "      <th></th>\n",
       "      <th>session_id</th>\n",
       "      <th>count_events</th>\n",
       "    </tr>\n",
       "  </thead>\n",
       "  <tbody>\n",
       "    <tr>\n",
       "      <th>0</th>\n",
       "      <td>s1</td>\n",
       "      <td>4</td>\n",
       "    </tr>\n",
       "    <tr>\n",
       "      <th>1</th>\n",
       "      <td>s2</td>\n",
       "      <td>4</td>\n",
       "    </tr>\n",
       "  </tbody>\n",
       "</table>\n",
       "</div>"
      ],
      "text/plain": [
       "  session_id  count_events\n",
       "0         s1             4\n",
       "1         s2             4"
      ]
     },
     "execution_count": 4,
     "metadata": {},
     "output_type": "execute_result"
    }
   ],
   "source": [
    "job.out_df"
   ]
  },
  {
   "cell_type": "markdown",
   "id": "14b503be",
   "metadata": {},
   "source": [
    "## Rerun, with logs"
   ]
  },
  {
   "cell_type": "code",
   "execution_count": 5,
   "id": "440b9430",
   "metadata": {},
   "outputs": [
    {
     "name": "stderr",
     "output_type": "stream",
     "text": [
      "|21:43:01:INFO:Job|py_job: '/mnt/yaetos/jobs/examples/ex7_pandas_job.py'\n",
      "|21:43:01:INFO:Job|job_name: 'examples/ex7_pandas_job.py', from job_file: '/mnt/yaetos/jobs/examples/ex7_pandas_job.py'\n",
      "|21:43:01:INFO:Job|py_job: 'jobs/examples/ex7_pandas_job.py', from job_name: 'examples/ex7_pandas_job.py'\n",
      "|21:43:01:INFO:Job|Job args: \n",
      "{'add_created_at': 'true',\n",
      " 'aws_config_file': 'none',\n",
      " 'aws_setup': 'dev',\n",
      " 'base_path': './tests/fixtures/data_sample/',\n",
      " 'chain_dependencies': False,\n",
      " 'code_source': 'lib',\n",
      " 'connection_file': 'conf/connections.cfg',\n",
      " 'dependencies': False,\n",
      " 'deploy': 'none',\n",
      " 'description': 'job loading and processing data with pandas. No spark '\n",
      "                'involved.',\n",
      " 'email_cred_section': 'some_email_cred_section',\n",
      " 'enable_redshift_push': False,\n",
      " 'inputs': {'other_events': {'df_type': 'pandas',\n",
      "                             'path': '{base_path}/wiki_example/input/',\n",
      "                             'path_expanded': './tests/fixtures/data_sample//wiki_example/input/',\n",
      "                             'type': 'csv'},\n",
      "            'some_events': {'df_type': 'pandas',\n",
      "                            'path': '{base_path}/wiki_example/input/',\n",
      "                            'path_expanded': './tests/fixtures/data_sample//wiki_example/input/',\n",
      "                            'type': 'csv'}},\n",
      " 'is_incremental': False,\n",
      " 'job_name': 'examples/ex7_pandas_job.py',\n",
      " 'job_param_file': 'conf/jobs_metadata.yml',\n",
      " 'jobs_folder': 'jobs/',\n",
      " 'leave_on': False,\n",
      " 'load_connectors': 'none',\n",
      " 'manage_git_info': False,\n",
      " 'mode': 'dev_local',\n",
      " 'no_fw_cache': False,\n",
      " 'output': {'df_type': 'pandas',\n",
      "            'path': '{base_path}/wiki_example/output_ex7_pandas/{now}/output.csv',\n",
      "            'save_kwargs': {'sep': ','},\n",
      "            'type': 'csv'},\n",
      " 'push_secrets': False,\n",
      " 'py_job': 'jobs/examples/ex7_pandas_job.py',\n",
      " 'redshift_s3_tmp_dir': 's3a://dev-spark/tmp_spark/',\n",
      " 'rerun_criteria': 'last_date',\n",
      " 'save_schemas': True,\n",
      " 'schema': 'sandbox',\n",
      " 'spark_boot': False,\n",
      " 'spark_version': '3.0',\n",
      " 'sql_file': None,\n",
      " 'storage': 'local'}\n",
      "|21:43:01:INFO:Job|-------Starting running job 'examples/ex7_pandas_job.py'--------\n",
      "|21:43:01:INFO:Job|Input 'some_events' to be loaded from files '{base_path}/wiki_example/input/'.\n",
      "|21:43:01:INFO:Job|Input 'some_events' loaded from files './tests/fixtures/data_sample//wiki_example/input/'.\n",
      "|21:43:01:INFO:Job|Input 'some_events' loaded.\n",
      "|21:43:01:INFO:Job|Input 'other_events' to be loaded from files '{base_path}/wiki_example/input/'.\n",
      "|21:43:01:INFO:Job|Input 'other_events' loaded from files './tests/fixtures/data_sample//wiki_example/input/'.\n",
      "|21:43:01:INFO:Job|Input 'other_events' loaded.\n",
      "|21:43:01:INFO:Job|Post filter length: 4\n",
      "|21:43:01:INFO:Job|Output sample:\n",
      "|21:43:01:INFO:Job|Warning: Failed showing table sample with error ''DataFrame' object has no attribute 'show''.\n",
      "|21:43:01:INFO:Job|Output count: session_id      2\n",
      "count_events    2\n",
      "dtype: int64\n",
      "|21:43:01:INFO:Job|Wrote output to ./tests/fixtures/data_sample//wiki_example/output_ex7_pandas/date20220525_time214301_utc/output.csv\n",
      "|21:43:01:INFO:Job|Process time to complete (post save to file but pre copy to db if any, also may not include processing if output not saved): 0.19287419319152832 s\n",
      "|21:43:01:INFO:Job|Process time to complete job (post db copies if any): 0.19537949562072754 s\n",
      "|21:43:01:INFO:Job|-------End job 'examples/ex7_pandas_job.py'--------\n"
     ]
    }
   ],
   "source": [
    "logging.getLogger('Job').setLevel(logging.INFO)\n",
    "args['output'] = {'path':'{base_path}/wiki_example/output_ex7_pandas/{now}/output.csv', 'type':'csv', 'df_type':'pandas', 'save_kwargs':{'sep':','}}\n",
    "job = Runner(Job, **args).run()\n"
   ]
  },
  {
   "cell_type": "code",
   "execution_count": 6,
   "id": "a8d7b528",
   "metadata": {},
   "outputs": [
    {
     "data": {
      "text/html": [
       "<div>\n",
       "<style scoped>\n",
       "    .dataframe tbody tr th:only-of-type {\n",
       "        vertical-align: middle;\n",
       "    }\n",
       "\n",
       "    .dataframe tbody tr th {\n",
       "        vertical-align: top;\n",
       "    }\n",
       "\n",
       "    .dataframe thead th {\n",
       "        text-align: right;\n",
       "    }\n",
       "</style>\n",
       "<table border=\"1\" class=\"dataframe\">\n",
       "  <thead>\n",
       "    <tr style=\"text-align: right;\">\n",
       "      <th></th>\n",
       "      <th>session_id</th>\n",
       "      <th>count_events</th>\n",
       "    </tr>\n",
       "  </thead>\n",
       "  <tbody>\n",
       "    <tr>\n",
       "      <th>0</th>\n",
       "      <td>s1</td>\n",
       "      <td>4</td>\n",
       "    </tr>\n",
       "    <tr>\n",
       "      <th>1</th>\n",
       "      <td>s2</td>\n",
       "      <td>4</td>\n",
       "    </tr>\n",
       "  </tbody>\n",
       "</table>\n",
       "</div>"
      ],
      "text/plain": [
       "  session_id  count_events\n",
       "0         s1             4\n",
       "1         s2             4"
      ]
     },
     "execution_count": 6,
     "metadata": {},
     "output_type": "execute_result"
    }
   ],
   "source": [
    "import pandas as pd\n",
    "df_out = pd.read_csv(job.jargs.output['path_expanded'], index_col=0)\n",
    "df_out"
   ]
  },
  {
   "cell_type": "code",
   "execution_count": 7,
   "id": "a307a705",
   "metadata": {},
   "outputs": [
    {
     "data": {
      "text/plain": [
       "'/mnt/yaetos'"
      ]
     },
     "execution_count": 7,
     "metadata": {},
     "output_type": "execute_result"
    }
   ],
   "source": [
    "pwd"
   ]
  },
  {
   "cell_type": "code",
   "execution_count": null,
   "id": "d8a143d1",
   "metadata": {},
   "outputs": [],
   "source": []
  }
 ],
 "metadata": {
  "kernelspec": {
   "display_name": "Python 3",
   "language": "python",
   "name": "python3"
  },
  "language_info": {
   "codemirror_mode": {
    "name": "ipython",
    "version": 3
   },
   "file_extension": ".py",
   "mimetype": "text/x-python",
   "name": "python",
   "nbconvert_exporter": "python",
   "pygments_lexer": "ipython3",
   "version": "3.6.15"
  }
 },
 "nbformat": 4,
 "nbformat_minor": 5
}
